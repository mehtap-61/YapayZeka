{
  "nbformat": 4,
  "nbformat_minor": 0,
  "metadata": {
    "colab": {
      "provenance": []
    },
    "kernelspec": {
      "name": "python3",
      "display_name": "Python 3"
    },
    "language_info": {
      "name": "python"
    }
  },
  "cells": [
    {
      "cell_type": "markdown",
      "source": [
        "YAPAY ZEKA dersi için bu bölümde;\n",
        "\n",
        "\"Scikit-Learn\" kütüphanesi:\n",
        "\n",
        "\"Tensorflow\" kütüphanesi:\n",
        "\n",
        "\"Pytorch\" kütüphanesi:\n",
        "\n",
        "\"Keras\" kütüphanesi kullanım ve örnekleri uygulanmıştır"
      ],
      "metadata": {
        "id": "KNHIoWHFLSup"
      }
    },
    {
      "cell_type": "code",
      "source": [
        "print(\"Merhaba, İGÜ - YAPAY ZEKA geliştirilmesi için kullanılacak kütüphaneler - D3\") # print ekrana çıktı veren bir koddur.\n",
        "import sys # import python programlama dilinde yazılıma kütüphane eklemeye yarayan bir kod blogudur.\n",
        "print(sys.version)\n",
        "from google.colab import drive # google colab - drive bağlantısı\n",
        "drive.mount('/content/drive')\n",
        "import os\n",
        "\n",
        "os.chdir('/content/drive/My Drive/YapayZeka')\n",
        "\n",
        "!pwd # bize kodun çıktısını dosya yolu olarak veren kod blogudur."
      ],
      "metadata": {
        "colab": {
          "base_uri": "https://localhost:8080/"
        },
        "id": "1G5-upMrLTuN",
        "outputId": "3686de1b-ebc9-4dbd-83c6-0446bf075ae0"
      },
      "execution_count": null,
      "outputs": [
        {
          "output_type": "stream",
          "name": "stdout",
          "text": [
            "Merhaba, İGÜ - YAPAY ZEKA geliştirilmesi için kullanılacak kütüphaneler - D3\n",
            "3.10.12 (main, Sep 11 2024, 15:47:36) [GCC 11.4.0]\n",
            "Mounted at /content/drive\n",
            "/content/drive/My Drive/YapayZeka\n"
          ]
        }
      ]
    },
    {
      "cell_type": "markdown",
      "source": [
        "**PYTHON PROGRAMLAMA DİLİ KÜTÜPHANELERİ**\n",
        "\n",
        "Scikit-Learn, TensorFlow, PyTorch, Keras\n",
        "\n",
        "---\n",
        "\n",
        "Yapay zeka algoritmaları bilgisayar üzerinde iki donanım birimi üzerinde işleme alınır.\n",
        "Bu birimler, \"CPU-(Central Processing Unit)-Merkezi İşlem Birimi\" ve \"GPU (Graphics Processing Unit)-Grafik İşlem Birimi\"dir.\n",
        "\n",
        "Genel bir bakış açısıyla CPU,bilgisayarın genel iş yükünü yönetir,programları çalıştırır ve komutları işler.Bu işlemlerle birlikte yapay zeka algoritmalarını derler.GPU, bilgisayarın işlem yükünden bağımsız paralel işlem birimleriyle yapay zeka algoritmalarını derler.\n",
        "CPU'lar:Intel Core i9,AMD Ryzen 9 gibi CPUlar:NVIDIA RTX3090,AMD RadeonRX  6900 XT gibidir.\n",
        "\n",
        "---\n",
        "Hangi teknolojiyi kullanacağımızı elimizdeki\n",
        "verinin ölçeğine belirlememiz gerekmektedir.\n",
        "\n",
        "---\n",
        "\n",
        "* Küçük ölçekli:100 ile 10,000 arası veri\n",
        "\n",
        "* Orta ölçekli:10,000 ile 100,000 arası veri\n",
        "\n",
        "* Büyük ölçekli:100,000 ile bir milyon arası veri\n",
        "\n",
        "* Hiper ölçekli: bir milyon ile bir milyar arası veri\n",
        "\n",
        "* Exascale computing ölçekli: Bir Milyar ile...(bir trilyon)\n"
      ],
      "metadata": {
        "id": "ObwyVZgvLjzu"
      }
    },
    {
      "cell_type": "code",
      "source": [
        "# CPU ve GPU teknolojisinin kullanımına göre olması gereken veri sayısı tablosu\n",
        "\n",
        "import pandas as pd\n",
        "\n",
        "tablo = {\n",
        "    \"Aralık\": [\"Küçük ölçekli\", \"Orta ölçekli\", \"Büyük ölçekli\", \"Hiper ölçekli\", \"Exascale\"],\n",
        "    \"Veri Sayısı\": [\"100 - 10,000\", \"10,000 - 100,000\", \"100,000 - Milyon\",  \"Milyon - Milyar\", \"Milyar - Trilyon\"],\n",
        "    \"CPU\": [\"Evet\", \"Evet\", \"Opsiyonel\", \"Hayır\", \"Hayır\"],\n",
        "    \"GPU\": [\"Hayır\", \"Opsiyonel\", \"Evet\", \"Evet\", \"Evet\"]\n",
        "}\n",
        "\n",
        "print(pd.DataFrame(tablo))"
      ],
      "metadata": {
        "colab": {
          "base_uri": "https://localhost:8080/"
        },
        "id": "ErawKmcFLvKN",
        "outputId": "3f744230-07df-475c-e5cf-d1abda2166da"
      },
      "execution_count": null,
      "outputs": [
        {
          "output_type": "stream",
          "name": "stdout",
          "text": [
            "          Aralık       Veri Sayısı        CPU        GPU\n",
            "0  Küçük ölçekli      100 - 10,000       Evet      Hayır\n",
            "1   Orta ölçekli  10,000 - 100,000       Evet  Opsiyonel\n",
            "2  Büyük ölçekli  100,000 - Milyon  Opsiyonel       Evet\n",
            "3  Hiper ölçekli   Milyon - Milyar      Hayır       Evet\n",
            "4       Exascale  Milyar - Trilyon      Hayır       Evet\n"
          ]
        }
      ]
    },
    {
      "cell_type": "markdown",
      "source": [
        "**Kütüphane Kurulumunda dikkat edilmesi gereken en önemli konu:**\n",
        "\n",
        "Genel kullanım bakımından python kütüphanesi kurucağımız zaman dikkat edilmesi gereken iki yapı bulunmaktadır. Bu yapılar \"pip\" ve \"pip3\"'tür.\n",
        "\n",
        "pip yapısı -> Python 2.x sürümlerini destekler.\n",
        "\n",
        "pip3 yapısı -> Python 3.x sürümlerini destekler.\n",
        "\n",
        "Bazı istatistiksel ingilizce kelimelerin bilinmesi ve hesaplanması gerekir.Bunlar:\n",
        "\n",
        "* Mean Absolute Mean (MAE): Gerçek değerler ile tahmin edilen değerler arasındaki farkların mutlak değerler ortalamasıdır.\n",
        "\n",
        "* Root Mean Squared Error (RMSE): MSE'nin karekökü ve tahminlerin ne kadar tutarlı olduğunu gösterir.\n",
        "\n",
        "* Mean Absolute Percentage Error (MAPE): Gerçek değerler ile tahmin edilen değerler arasındaki farkın, gerçek değerin yüzdesel olarak ne kadar olduğunu gösterir.\n",
        "\n",
        "* R-square(R^2) : Modelin hedef değişkeninin varyansını ne kadar iyi açıkladığını gösterir.\n",
        "\n",
        "* Doğruluk(Accuracy): Modelin doğru sınıflandırdığı örneklerin , toplam örnek sayısına oranıdır.\n",
        "\n",
        "* Kesinlik (Precision): Modelin pozitif tahminlerinin ne kadarının gerçekten pozitif olduğunu gösterir.\n",
        "\n",
        "*Duyarlılık(Recall): Gerçek pozitif örneklerin ne kadarının modelin doğru bir şekilde tahmin edebildiğini gösterir.\n",
        "\n",
        "*Karmaşıklık matrisi(Confusion Matrix): Modelin hangi sınıflarda ne kadar doğru veya yanlış tahmin yaptığını gösteren tablodur. Modelin tahmin performansınındaha ayrıntılı bir görünümünü sağlar.\n",
        "\n",
        "\n",
        "---\n",
        "\n",
        "\n",
        "*Karmaşık Matrisinde Kullanılan Tanımlar ve Kavramlar*\n",
        "\n",
        "* TP(True positives-Doğru pozitif)\n",
        "\n",
        "* TN(True negatives-Doğru negatif)\n",
        "\n",
        "* FP(False positives-Yanlış pozitif)\n",
        "\n",
        "* FN(False negatives-Yanlış negatif)\n",
        "\n",
        "---\n",
        "\n",
        "\n"
      ],
      "metadata": {
        "id": "OoTabrrSL3cv"
      }
    },
    {
      "cell_type": "code",
      "source": [
        "import pandas as pd\n",
        "\n",
        "# True Positive (TP), True Negative (TN), False Positive (FP), False Negative (FN)\n",
        "matris_bilgisi = {\n",
        "    \"Gerçek Pozitif\": [\"Doğru Pozitif (TP)\", \"Yanlış Negatif (FN)\"],\n",
        "    \"Gerçek Negatif\": [\"Yanlış Pozitif (FP)\", \"Doğru Negatif (TN)\"]\n",
        "}\n",
        "\n",
        "# DataFrame oluşturma\n",
        "matris = pd.DataFrame(matris_bilgisi, index=[\"Tahmin Pozitif\", \"Tahmin Negatif\"])\n",
        "\n",
        "# Tabloyu gösterme\n",
        "print(matris)"
      ],
      "metadata": {
        "colab": {
          "base_uri": "https://localhost:8080/"
        },
        "id": "4mp1SdWoL2DJ",
        "outputId": "6558be6c-20f4-49ce-e585-6c030b8f0014"
      },
      "execution_count": null,
      "outputs": [
        {
          "output_type": "stream",
          "name": "stdout",
          "text": [
            "                     Gerçek Pozitif       Gerçek Negatif\n",
            "Tahmin Pozitif   Doğru Pozitif (TP)  Yanlış Pozitif (FP)\n",
            "Tahmin Negatif  Yanlış Negatif (FN)   Doğru Negatif (TN)\n"
          ]
        }
      ]
    },
    {
      "cell_type": "markdown",
      "source": [
        "Karmaşıklık matrisinden sistemin doğruluğunu bulacağımız formül ->\n",
        "\n",
        "Dogruluk = TP+TN+FP+FN / TP+TN 'dir.\n",
        "\n",
        "Örneğin: TP = 50, TN = 40, FP = 5, FN = 5 ise; Dogruluk = 50 + 40 + 5 + 5 / 50 + 40 --> 0.9 -> % 90 olarak hesaplanmaktadır.\n",
        "\n",
        "%90 Model Doğruluk Oranı - %10 Modelin Hata Oranı 'dır.\n",
        "\n",
        "Hata oranını azaltmak için->\n",
        "\n",
        "Modelin iyileştirilmesi,\n",
        "\n",
        "Veri sayısının arttırılması,\n",
        "\n",
        "Eğitim adım sayısının değiştirilmesi,\n",
        "\n",
        "Veri seti içerisindeki farklı değişlenlerin - özelliklerin algoritmaya dahil edilmesi."
      ],
      "metadata": {
        "id": "M-XJ5W_mNbEG"
      }
    },
    {
      "cell_type": "code",
      "source": [
        "# Scikit-Learn kütüphanesinin sisteme dahil edilmesi ve veri setinin işleme alınması\n",
        "\n",
        "!pip install -U scikit-learn"
      ],
      "metadata": {
        "colab": {
          "base_uri": "https://localhost:8080/"
        },
        "id": "ZRi8w0sqNcKm",
        "outputId": "f01d36d8-35cb-47a9-d4aa-4ebbfacf553a"
      },
      "execution_count": null,
      "outputs": [
        {
          "output_type": "stream",
          "name": "stdout",
          "text": [
            "Requirement already satisfied: scikit-learn in /usr/local/lib/python3.10/dist-packages (1.5.2)\n",
            "Requirement already satisfied: numpy>=1.19.5 in /usr/local/lib/python3.10/dist-packages (from scikit-learn) (1.26.4)\n",
            "Requirement already satisfied: scipy>=1.6.0 in /usr/local/lib/python3.10/dist-packages (from scikit-learn) (1.13.1)\n",
            "Requirement already satisfied: joblib>=1.2.0 in /usr/local/lib/python3.10/dist-packages (from scikit-learn) (1.4.2)\n",
            "Requirement already satisfied: threadpoolctl>=3.1.0 in /usr/local/lib/python3.10/dist-packages (from scikit-learn) (3.5.0)\n"
          ]
        }
      ]
    },
    {
      "cell_type": "markdown",
      "source": [
        "**1.Scikit-Learn kütüphanesi:**\n",
        "\n",
        "* !pip install -U scikit-learn\n",
        "\n",
        "İlk örneğimizde fetch_california_housing()veri setini Scikit-Learn Kütüphanesi içerisinden alarak ilk yapay zeka uygulaması gerçekleştirildi.\n",
        "\n",
        "Bu veri setinin içeriğinde:\n",
        "\n",
        "California'daki farklı konumlardaki ev fiyatlarının verileri ve bu fiyatları etkileyen çeşitli faktörler içerir.\n",
        "\n",
        "\"fetch_california_housing\" veri setinin degişken tanımları->\n",
        "\n",
        "MedInc: Ortalama hane geliri\n",
        "\n",
        "HouseAge:Konutların ortalama yaşı\n",
        "\n",
        "AveRooms: Ortalama yatak odası sayısı\n",
        "\n",
        "AveOccup: Hane başına ortalam kişi sayısı\n",
        "\n",
        "Latitude: Bölgenimn enlem bilgisi\n",
        "\n",
        "Longtitude: Bölgenin boylam bilgisi\n",
        "\n",
        "Target:Bölgede ortalama konut fiyatları\n",
        "\n",
        "---\n",
        "\n",
        "şimdi veri setinin kütüphane içerisinden alıyoruz.\n",
        "\n",
        "---"
      ],
      "metadata": {
        "id": "PRhQS60TN0_N"
      }
    },
    {
      "cell_type": "code",
      "source": [
        "from sklearn.datasets import fetch_california_housing\n",
        "import pandas as pd\n",
        "\n",
        "# California Housing veri setini yükleme\n",
        "veri_seti_bilgisi = fetch_california_housing()\n",
        "\n",
        "# Özellikleri ve hedef değişkeni almak\n",
        "X = veri_seti_bilgisi.data  # Bağımsız değişkenler (özellikler)\n",
        "y = veri_seti_bilgisi.target  # Bağımlı değişken (fiyatlar)\n",
        "\n",
        "# Verileri bir DataFrame'e dönüştürme\n",
        "df = pd.DataFrame(X, columns=veri_seti_bilgisi.feature_names)\n",
        "df['PRICE'] = y\n",
        "\n",
        "# İlk birkaç satırı görüntüleme\n",
        "print(df.head())"
      ],
      "metadata": {
        "colab": {
          "base_uri": "https://localhost:8080/"
        },
        "id": "TrgwhPvsOEhp",
        "outputId": "122b68cd-25ef-4982-de6b-2c972e7132dc"
      },
      "execution_count": null,
      "outputs": [
        {
          "output_type": "stream",
          "name": "stdout",
          "text": [
            "   MedInc  HouseAge  AveRooms  AveBedrms  Population  AveOccup  Latitude  \\\n",
            "0  8.3252      41.0  6.984127   1.023810       322.0  2.555556     37.88   \n",
            "1  8.3014      21.0  6.238137   0.971880      2401.0  2.109842     37.86   \n",
            "2  7.2574      52.0  8.288136   1.073446       496.0  2.802260     37.85   \n",
            "3  5.6431      52.0  5.817352   1.073059       558.0  2.547945     37.85   \n",
            "4  3.8462      52.0  6.281853   1.081081       565.0  2.181467     37.85   \n",
            "\n",
            "   Longitude  PRICE  \n",
            "0    -122.23  4.526  \n",
            "1    -122.22  3.585  \n",
            "2    -122.24  3.521  \n",
            "3    -122.25  3.413  \n",
            "4    -122.25  3.422  \n"
          ]
        }
      ]
    }
  ]
}